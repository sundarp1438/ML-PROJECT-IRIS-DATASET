{
 "cells": [
  {
   "cell_type": "code",
   "execution_count": 24,
   "metadata": {},
   "outputs": [
    {
     "name": "stdout",
     "output_type": "stream",
     "text": [
      "✅ Data saved at data/raw/iris.csv\n",
      "✅ Processed data saved at data/processed/featured_iris.csv\n",
      "✅ Train set saved at data/processed/train_iris.csv\n",
      "✅ Test set saved at data/processed/test_iris.csv\n",
      "✅ Model saved at models/model.joblib\n",
      "✅ Evaluation complete. Metrics saved at reports/metrics.json\n"
     ]
    },
    {
     "data": {
      "image/png": "[encoded data removed]",
      "text/plain": [
       "<Figure size 600x400 with 2 Axes>"
      ]
     },
     "metadata": {},
     "output_type": "display_data"
    }
   ],
   "source": [
    "import pandas as pd\n",
    "import yaml\n",
    "import joblib\n",
    "import json\n",
    "import matplotlib.pyplot as plt\n",
    "import seaborn as sns\n",
    "from sklearn.model_selection import train_test_split\n",
    "from sklearn.ensemble import RandomForestClassifier\n",
    "from sklearn.metrics import accuracy_score, confusion_matrix\n",
    "\n",
    "# Load Configuration\n",
    "with open('params.yaml', 'r') as file:\n",
    "    config = yaml.safe_load(file)\n",
    "\n",
    "data_config = config.get('data_load', {})\n",
    "featurize_config = config.get('featurize', {})\n",
    "data_split_config = config.get('data_split', {})\n",
    "train_config = config.get('train', {})\n",
    "evaluate_config = config.get('evaluate', {})\n",
    "\n",
    "# Load Data\n",
    "data_path = data_config.get('dataset_path', 'data/raw/iris.csv')\n",
    "df = pd.read_csv(\"https://raw.githubusercontent.com/mwaskom/seaborn-data/master/iris.csv\")\n",
    "df.to_csv(data_path, index=False)\n",
    "print(f\"✅ Data saved at {data_path}\")\n",
    "\n",
    "# Feature Engineering\n",
    "df['species'] = df['species'].astype('category').cat.codes\n",
    "processed_data_path = featurize_config.get('processed_path', 'data/processed/featured_iris.csv')\n",
    "df.to_csv(processed_data_path, index=False)\n",
    "print(f\"✅ Processed data saved at {processed_data_path}\")\n",
    "\n",
    "# Train-Test Split\n",
    "test_size = data_split_config.get('test_size', 0.2)\n",
    "random_state = config.get('base', {}).get('random_state', 42)\n",
    "train_path = data_split_config.get('trainset_path', 'data/processed/train_iris.csv')\n",
    "test_path = data_split_config.get('testset_path', 'data/processed/test_iris.csv')\n",
    "train_df, test_df = train_test_split(df, test_size=test_size, random_state=random_state)\n",
    "train_df.to_csv(train_path, index=False)\n",
    "test_df.to_csv(test_path, index=False)\n",
    "print(f\"✅ Train set saved at {train_path}\")\n",
    "print(f\"✅ Test set saved at {test_path}\")\n",
    "\n",
    "# Model Training\n",
    "target_column = featurize_config.get('target_column', 'species')\n",
    "X_train = train_df.drop(columns=[target_column])\n",
    "y_train = train_df[target_column]\n",
    "model = RandomForestClassifier(n_estimators=100, random_state=42)\n",
    "model.fit(X_train, y_train)\n",
    "model_path = train_config.get('model_path', 'models/model.joblib')\n",
    "joblib.dump(model, model_path)\n",
    "print(f\"✅ Model saved at {model_path}\")\n",
    "\n",
    "# Model Evaluation\n",
    "X_test = test_df.drop(columns=[target_column])\n",
    "y_test = test_df[target_column]\n",
    "y_pred = model.predict(X_test)\n",
    "acc = accuracy_score(y_test, y_pred)\n",
    "cm = confusion_matrix(y_test, y_pred)\n",
    "metrics = {\"accuracy\": acc, \"confusion_matrix\": cm.tolist()}\n",
    "metrics_path = evaluate_config.get('metrics_path', 'reports/metrics.json')\n",
    "with open(metrics_path, 'w') as f:\n",
    "    json.dump(metrics, f)\n",
    "print(f\"✅ Evaluation complete. Metrics saved at {metrics_path}\")\n",
    "\n",
    "# Visualization\n",
    "plt.figure(figsize=(6, 4))\n",
    "sns.heatmap(cm, annot=True, fmt='d', cmap='Blues')\n",
    "plt.xlabel('Predicted')\n",
    "plt.ylabel('Actual')\n",
    "plt.title('Confusion Matrix')\n",
    "plt.show()\n"
   ]
  },
  {
   "cell_type": "code",
   "execution_count": null,
   "metadata": {},
   "outputs": [],
   "source": []
  }
 ],
 "metadata": {
  "kernelspec": {
   "display_name": "base",
   "language": "python",
   "name": "python3"
  },
  "language_info": {
   "codemirror_mode": {
    "name": "ipython",
    "version": 3
   },
   "file_extension": ".py",
   "mimetype": "text/x-python",
   "name": "python",
   "nbconvert_exporter": "python",
   "pygments_lexer": "ipython3",
   "version": "3.12.7"
  }
 },
 "nbformat": 4,
 "nbformat_minor": 2
}
