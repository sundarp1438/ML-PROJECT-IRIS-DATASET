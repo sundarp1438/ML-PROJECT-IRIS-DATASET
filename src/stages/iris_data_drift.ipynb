{
 "cells": [
  {
   "cell_type": "code",
   "execution_count": 3,
   "metadata": {},
   "outputs": [
    {
     "name": "stderr",
     "output_type": "stream",
     "text": [
      "2025/03/14 12:35:09 WARNING mlflow.utils.requirements_utils: Detected one or more mismatches between the model's dependencies and the current Python environment:\n",
      " - cloudpickle (current: 3.0.0, required: cloudpickle==3.1.1)\n",
      " - psutil (current: 5.9.0, required: psutil==7.0.0)\n",
      " - scikit-learn (current: 1.5.1, required: scikit-learn==1.6.1)\n",
      " - scipy (current: 1.13.1, required: scipy==1.15.2)\n",
      "To fix the mismatches, call `mlflow.pyfunc.get_model_dependencies(model_uri)` to fetch the model's environment and install dependencies using the resulting environment file.\n"
     ]
    },
    {
     "name": "stdout",
     "output_type": "stream",
     "text": [
      "✅ Model loaded from MLflow\n",
      "✅ Reference data loaded from data/processed/train_iris.csv\n",
      "✅ Current data loaded from data/processed/test_iris.csv\n"
     ]
    },
    {
     "name": "stderr",
     "output_type": "stream",
     "text": [
      "2025/03/14 12:35:21 INFO mlflow.tracking.fluent: Experiment with name 'Iris Data Drift Monitoring' does not exist. Creating a new experiment.\n"
     ]
    },
    {
     "name": "stdout",
     "output_type": "stream",
     "text": [
      "✅ Data drift report saved at reports/iris_drift_report.html\n",
      "✅ Drift report logged to MLflow\n",
      "\n",
      "🎯 Iris Data Drift Analysis Complete. Check MLflow UI for logs.\n"
     ]
    }
   ],
   "source": [
    "import joblib\n",
    "import pandas as pd\n",
    "import mlflow\n",
    "import os\n",
    "from evidently.report import Report\n",
    "from evidently.metric_preset import DataDriftPreset, DataQualityPreset, TargetDriftPreset\n",
    "from evidently import ColumnMapping\n",
    "import warnings\n",
    "\n",
    "warnings.filterwarnings(\"ignore\")\n",
    "\n",
    "# ✅ Load MLflow model OR local model\n",
    "use_mlflow = True  # Change to False to use local model\n",
    "\n",
    "if use_mlflow:\n",
    "    logged_model = 'runs:/af5a50e2b83d4fbfb59ef85f4b9c8acc/model'  # Use model name instead of a specific run ID\n",
    "    model = mlflow.pyfunc.load_model(logged_model)\n",
    "    print(\"✅ Model loaded from MLflow\")\n",
    "else:\n",
    "    model_path = 'models/iris_model.pkl'\n",
    "    if not os.path.exists(model_path):\n",
    "        raise FileNotFoundError(f\"🚨 Model file not found at {model_path}\")\n",
    "    model = joblib.load(model_path)\n",
    "    print(f\"✅ Model loaded from {model_path}\")\n",
    "\n",
    "# ✅ Load Iris Data (Reference: Train, Current: Test)\n",
    "data_paths = {\n",
    "    \"reference\": \"data/processed/train_iris.csv\",\n",
    "    \"current\": \"data/processed/test_iris.csv\"\n",
    "}\n",
    "\n",
    "datasets = {}\n",
    "for key, path in data_paths.items():\n",
    "    if not os.path.exists(path):\n",
    "        raise FileNotFoundError(f\"🚨 Data file not found: {path}\")\n",
    "    datasets[key] = pd.read_csv(path)\n",
    "    print(f\"✅ {key.capitalize()} data loaded from {path}\")\n",
    "\n",
    "# ✅ Clean and Prepare Data\n",
    "target = 'species'\n",
    "feature_columns = ['sepal_length', 'sepal_width', 'petal_length', 'petal_width']\n",
    "\n",
    "for key in datasets.keys():\n",
    "    datasets[key]['prediction'] = model.predict(datasets[key][feature_columns])\n",
    "\n",
    "# ✅ Define Column Mapping for Evidently AI\n",
    "column_mapping = ColumnMapping()\n",
    "column_mapping.target = target\n",
    "column_mapping.prediction = 'prediction'\n",
    "column_mapping.numerical_features = feature_columns\n",
    "column_mapping.categorical_features = []\n",
    "\n",
    "# ✅ Run Evidently Data Drift Report\n",
    "data_drift_report = Report(metrics=[\n",
    "    DataDriftPreset(),\n",
    "    DataQualityPreset(),\n",
    "    TargetDriftPreset()\n",
    "])\n",
    "data_drift_report.run(reference_data=datasets[\"reference\"], current_data=datasets[\"current\"], column_mapping=column_mapping)\n",
    "\n",
    "# ✅ Save Report\n",
    "drift_report_path = \"reports/iris_drift_report.html\"\n",
    "os.makedirs(os.path.dirname(drift_report_path), exist_ok=True)\n",
    "data_drift_report.save_html(drift_report_path)\n",
    "print(f\"✅ Data drift report saved at {drift_report_path}\")\n",
    "\n",
    "# ✅ Log Report to MLflow\n",
    "mlflow.set_experiment(\"Iris Data Drift Monitoring\")\n",
    "\n",
    "with mlflow.start_run():\n",
    "    mlflow.log_artifact(drift_report_path)\n",
    "    print(\"✅ Drift report logged to MLflow\")\n",
    "\n",
    "print(\"\\n🎯 Iris Data Drift Analysis Complete. Check MLflow UI for logs.\")\n"
   ]
  },
  {
   "cell_type": "code",
   "execution_count": null,
   "metadata": {},
   "outputs": [],
   "source": []
  }
 ],
 "metadata": {
  "kernelspec": {
   "display_name": "base",
   "language": "python",
   "name": "python3"
  },
  "language_info": {
   "codemirror_mode": {
    "name": "ipython",
    "version": 3
   },
   "file_extension": ".py",
   "mimetype": "text/x-python",
   "name": "python",
   "nbconvert_exporter": "python",
   "pygments_lexer": "ipython3",
   "version": "3.12.7"
  }
 },
 "nbformat": 4,
 "nbformat_minor": 2
}
